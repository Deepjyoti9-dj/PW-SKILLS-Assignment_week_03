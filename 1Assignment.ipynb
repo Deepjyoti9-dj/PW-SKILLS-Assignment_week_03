{
 "cells": [
  {
   "cell_type": "markdown",
   "id": "01e3985c-7274-476a-a3ba-2519407ed745",
   "metadata": {},
   "source": [
    "### Q1. Which keyword is used to create a function? Create a function to return a list of odd numbers in the range of 1 to 25.\n",
    "\n",
    "#### Answer to Q1.\n",
    "#### def keyword is used to create a function."
   ]
  },
  {
   "cell_type": "code",
   "execution_count": 4,
   "id": "7c8fff8a-27bb-496c-b8cf-5ed67536af0e",
   "metadata": {},
   "outputs": [],
   "source": [
    "def odd(a,b):\n",
    "    l=[]\n",
    "    for i in range(a,b+1):\n",
    "        if i%2==0:\n",
    "            continue\n",
    "        else:\n",
    "            l.append(i)\n",
    "    return l"
   ]
  },
  {
   "cell_type": "code",
   "execution_count": 5,
   "id": "50b5d2ce-1096-47b1-99b5-e5e5f22182aa",
   "metadata": {},
   "outputs": [
    {
     "data": {
      "text/plain": [
       "[1, 3, 5, 7, 9, 11, 13, 15, 17, 19, 21, 23, 25]"
      ]
     },
     "execution_count": 5,
     "metadata": {},
     "output_type": "execute_result"
    }
   ],
   "source": [
    "list(odd(1,25))"
   ]
  },
  {
   "cell_type": "markdown",
   "id": "a86c2572-54e9-4606-b299-a37f9b43edde",
   "metadata": {},
   "source": [
    "### Q2. Why *args and **kwargs is used in some functions? Create a function each for *args and **kwargs to demonstrate their use.\n",
    "\n",
    "#### Answer to Q2.\n",
    "#### *args is used when we don't know the number of arguments and it can receieve 'n' number of arguments. Whereas **kwargs is used to perform dictionary operations.\n",
    "\n",
    "#### function for *args"
   ]
  },
  {
   "cell_type": "code",
   "execution_count": 7,
   "id": "5071f4eb-ab9d-4594-a2f7-79d94a7f4400",
   "metadata": {},
   "outputs": [],
   "source": [
    "def func1(*args):\n",
    "    return args"
   ]
  },
  {
   "cell_type": "code",
   "execution_count": 8,
   "id": "4536d7e5-eba4-44ed-a490-266805b7b04f",
   "metadata": {},
   "outputs": [
    {
     "data": {
      "text/plain": [
       "(1, 2, 3, 4, 5, 6)"
      ]
     },
     "execution_count": 8,
     "metadata": {},
     "output_type": "execute_result"
    }
   ],
   "source": [
    "func1(1,2,3,4,5,6)"
   ]
  },
  {
   "cell_type": "markdown",
   "id": "42b05865-f78b-4b60-b688-245d0c54a0fd",
   "metadata": {},
   "source": [
    "#### function for **kwargs"
   ]
  },
  {
   "cell_type": "code",
   "execution_count": 10,
   "id": "7558b73e-c4aa-4f75-b8ea-91e4bbf1543f",
   "metadata": {},
   "outputs": [],
   "source": [
    "def func2(**kwargs):\n",
    "    return kwargs"
   ]
  },
  {
   "cell_type": "code",
   "execution_count": 11,
   "id": "a08a10e3-c89c-4625-b389-b240cadb1ced",
   "metadata": {},
   "outputs": [
    {
     "data": {
      "text/plain": [
       "{'name': 'deepjyoti',\n",
       " 'list': [12, 34, 5, 6, 7],\n",
       " 'place': 'digboi',\n",
       " 'cource': 'data science'}"
      ]
     },
     "execution_count": 11,
     "metadata": {},
     "output_type": "execute_result"
    }
   ],
   "source": [
    "func2(name=\"deepjyoti\",list =[12,34,5,6,7],place =\"digboi\", cource=\"data science\")"
   ]
  },
  {
   "cell_type": "markdown",
   "id": "9b5a0d6c-7fcb-4fd4-a3f6-11d0865897fc",
   "metadata": {},
   "source": [
    "### Q3. What is an iterator in python? Name the method used to initialise the iterator object and the method used for iteration. Use these methods to print the first five elements of the given list [2, 4, 6, 8, 10, 12, 14, 16, 18, 20].\n",
    "\n",
    "#### Answer to Q3.\n",
    "#### An iterator is an object which allow us to iterate over collection of data like list, tuple, etc. iter() method is used to initialise the iterator object and next() method is used for iteration."
   ]
  },
  {
   "cell_type": "code",
   "execution_count": 25,
   "id": "7ea8bdc8-7f4b-4098-97c7-9e2036dd48a4",
   "metadata": {},
   "outputs": [
    {
     "name": "stdout",
     "output_type": "stream",
     "text": [
      "2\n",
      "4\n",
      "6\n",
      "8\n",
      "10\n"
     ]
    }
   ],
   "source": [
    "lis=[2,4,6,8,10,12,14,16,18,20]\n",
    "l=iter(lis)\n",
    "for i in range(0,5):\n",
    "    print(next(l))"
   ]
  },
  {
   "cell_type": "markdown",
   "id": "0e88f983-e28c-4abf-b103-3916e0708081",
   "metadata": {},
   "source": [
    "### Q4. What is a generator function in python? Why yield keyword is used? Give an example of a generator function.\n",
    "\n",
    "#### Answer to Q4.\n",
    "#### A generator function is a function which is created by the coder to perform a specific task and instead of using return keyword, yield keyword is used . The yield keyword is used to produce a value. Example of generator function"
   ]
  },
  {
   "cell_type": "code",
   "execution_count": 14,
   "id": "2171e86f-efa6-4022-8923-3c7d768cb2bf",
   "metadata": {},
   "outputs": [],
   "source": [
    "def func3(n):\n",
    "    '''generator function used to count number'''\n",
    "    count=1\n",
    "    while count<=n:\n",
    "        yield count\n",
    "        count=count+1\n"
   ]
  },
  {
   "cell_type": "code",
   "execution_count": 15,
   "id": "a325e5d2-2203-404e-8249-7c57b30d28b1",
   "metadata": {},
   "outputs": [],
   "source": [
    "ab=func3(10)"
   ]
  },
  {
   "cell_type": "code",
   "execution_count": 16,
   "id": "c1aecf50-71d0-48e6-8966-bcac7a22bdfa",
   "metadata": {},
   "outputs": [
    {
     "name": "stdout",
     "output_type": "stream",
     "text": [
      "1\n",
      "2\n",
      "3\n",
      "4\n",
      "5\n",
      "6\n",
      "7\n",
      "8\n",
      "9\n",
      "10\n"
     ]
    }
   ],
   "source": [
    "for i in ab:\n",
    "    print(i)"
   ]
  },
  {
   "cell_type": "markdown",
   "id": "2007585b-1382-4af0-a48c-87d7c3c41ad2",
   "metadata": {},
   "source": [
    "### Q5. Create a generator function for prime numbers less than 1000. Use the next() method to print the first 20 prime numbers.\n",
    "\n",
    "#### Answer to Q5."
   ]
  },
  {
   "cell_type": "code",
   "execution_count": 17,
   "id": "0cb3242f-426d-4a3c-9df9-71e5f1fc9ef7",
   "metadata": {},
   "outputs": [],
   "source": [
    "def is_prime(n):\n",
    "    if n<2:\n",
    "        return False\n",
    "    for i in range(2,n):\n",
    "        if n%i==0:\n",
    "            return False\n",
    "    return True\n",
    "    \n",
    "def prime_num():\n",
    "    num=2\n",
    "    while True:\n",
    "        if is_prime(num):\n",
    "            yield num\n",
    "        num = num +1"
   ]
  },
  {
   "cell_type": "code",
   "execution_count": 18,
   "id": "8d95cb0a-7bf1-4c41-848f-c47585c3ccd9",
   "metadata": {},
   "outputs": [
    {
     "data": {
      "text/plain": [
       "[2, 3, 5, 7, 11, 13, 17, 19, 23, 29, 31, 37, 41, 43, 47, 53, 59, 61, 67, 71]"
      ]
     },
     "execution_count": 18,
     "metadata": {},
     "output_type": "execute_result"
    }
   ],
   "source": [
    "prime_20 = prime_num()\n",
    "[next(prime_20) for i in range (20)]"
   ]
  },
  {
   "cell_type": "markdown",
   "id": "5215192a-6229-4e6e-b65c-c4ebbbba3eb0",
   "metadata": {},
   "source": [
    "### Q6. Write a python program to print the first 10 Fibonacci numbers using a while loop.\n",
    "\n",
    "#### Answer to Q6."
   ]
  },
  {
   "cell_type": "code",
   "execution_count": 19,
   "id": "1ebcae58-9e74-483e-a2d9-f0286dafb957",
   "metadata": {},
   "outputs": [
    {
     "name": "stdout",
     "output_type": "stream",
     "text": [
      "0\n",
      "1\n",
      "1\n",
      "2\n",
      "3\n",
      "5\n",
      "8\n",
      "13\n",
      "21\n",
      "34\n"
     ]
    }
   ],
   "source": [
    "a=0\n",
    "b=1\n",
    "n=0\n",
    "while n<10:\n",
    "    print(a)\n",
    "    c=a+b\n",
    "    a=b\n",
    "    b=c\n",
    "    n=n+1"
   ]
  },
  {
   "cell_type": "markdown",
   "id": "7320c617-d128-45e8-9271-84ecc1a634ba",
   "metadata": {},
   "source": [
    "### Q7. Write a List Comprehension to iterate through the given string: ‘pwskills’. Expected output: ['p', 'w', 's', 'k', 'i', 'l', 'l', 's']\n",
    "\n",
    "#### Answer to Q7."
   ]
  },
  {
   "cell_type": "code",
   "execution_count": 1,
   "id": "ae97e36a-dd62-47dd-8b14-1891ac96cf15",
   "metadata": {},
   "outputs": [],
   "source": [
    "s=\"pwskills\""
   ]
  },
  {
   "cell_type": "code",
   "execution_count": 2,
   "id": "573ca152-caec-49ed-af59-42bcfd360901",
   "metadata": {},
   "outputs": [
    {
     "data": {
      "text/plain": [
       "['p', 'w', 's', 'k', 'i', 'l', 'l', 's']"
      ]
     },
     "execution_count": 2,
     "metadata": {},
     "output_type": "execute_result"
    }
   ],
   "source": [
    "list(map(lambda x: str(x),s))"
   ]
  },
  {
   "cell_type": "markdown",
   "id": "56d8a9a1-5ccb-49e1-8a9a-a01aa187aab5",
   "metadata": {},
   "source": [
    "### Q8. Write a python program to check whether a given number is Palindrome or not using a while loop.\n",
    "\n",
    "#### Answer to Q8."
   ]
  },
  {
   "cell_type": "code",
   "execution_count": 3,
   "id": "d8a195b6-f87c-4f5f-88a9-5528a160f274",
   "metadata": {},
   "outputs": [],
   "source": [
    "def ispalindrome(a):\n",
    "    temp =a\n",
    "    rev=0\n",
    "    while a>0:\n",
    "        new=a%10\n",
    "        rev= rev*10+new\n",
    "        a=a//10\n",
    "    if rev==temp:\n",
    "        print(\"Given number is palindrome\")\n",
    "        print(\"Given number is \",temp,\" And its reverse is \",rev)\n",
    "    else:\n",
    "        print(\"Given number is not a palindrome\")\n",
    "        print(\"Given number is \",temp,\" And its reverse is \",rev)"
   ]
  },
  {
   "cell_type": "code",
   "execution_count": 4,
   "id": "d4acbb0c-fd9d-4c4c-ace7-9fdb46f17e88",
   "metadata": {},
   "outputs": [
    {
     "name": "stdout",
     "output_type": "stream",
     "text": [
      "Given number is palindrome\n",
      "Given number is  121  And its reverse is  121\n"
     ]
    }
   ],
   "source": [
    "ispalindrome(121)"
   ]
  },
  {
   "cell_type": "code",
   "execution_count": 5,
   "id": "ec1d7e4a-7afc-4cb4-a510-a10b48ef430a",
   "metadata": {},
   "outputs": [
    {
     "name": "stdout",
     "output_type": "stream",
     "text": [
      "Given number is not a palindrome\n",
      "Given number is  1478  And its reverse is  8741\n"
     ]
    }
   ],
   "source": [
    "ispalindrome(1478)"
   ]
  },
  {
   "cell_type": "markdown",
   "id": "399ea9bd-fa16-454c-ba25-7bf453118122",
   "metadata": {},
   "source": [
    "### Q9. Write a code to print odd numbers from 1 to 100 using list comprehension.\n",
    "\n",
    "#### Answer to Q9."
   ]
  },
  {
   "cell_type": "code",
   "execution_count": 6,
   "id": "7c932420-8b9a-45b9-a8b6-5bc0b992b498",
   "metadata": {},
   "outputs": [
    {
     "name": "stdout",
     "output_type": "stream",
     "text": [
      "[1, 3, 5, 7, 9, 11, 13, 15, 17, 19, 21, 23, 25, 27, 29, 31, 33, 35, 37, 39, 41, 43, 45, 47, 49, 51, 53, 55, 57, 59, 61, 63, 65, 67, 69, 71, 73, 75, 77, 79, 81, 83, 85, 87, 89, 91, 93, 95, 97, 99]\n"
     ]
    }
   ],
   "source": [
    "li=list(range(1,101))\n",
    "print(list(filter(lambda x:x%2!=0,li)))"
   ]
  },
  {
   "cell_type": "code",
   "execution_count": null,
   "id": "eb9867ed-a904-410c-8fb4-2a2d88e1f3ec",
   "metadata": {},
   "outputs": [],
   "source": []
  }
 ],
 "metadata": {
  "kernelspec": {
   "display_name": "Python 3 (ipykernel)",
   "language": "python",
   "name": "python3"
  },
  "language_info": {
   "codemirror_mode": {
    "name": "ipython",
    "version": 3
   },
   "file_extension": ".py",
   "mimetype": "text/x-python",
   "name": "python",
   "nbconvert_exporter": "python",
   "pygments_lexer": "ipython3",
   "version": "3.10.8"
  }
 },
 "nbformat": 4,
 "nbformat_minor": 5
}
